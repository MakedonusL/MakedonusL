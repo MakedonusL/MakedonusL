{
  "nbformat": 4,
  "nbformat_minor": 0,
  "metadata": {
    "colab": {
      "provenance": [],
      "authorship_tag": "ABX9TyP9lTkhQAauc7P7cQj6hbXl",
      "include_colab_link": true
    },
    "kernelspec": {
      "name": "python3",
      "display_name": "Python 3"
    },
    "language_info": {
      "name": "python"
    }
  },
  "cells": [
    {
      "cell_type": "markdown",
      "metadata": {
        "id": "view-in-github",
        "colab_type": "text"
      },
      "source": [
        "<a href=\"https://colab.research.google.com/github/MakedonusL/MakedonusL/blob/main/Lab_4_Ex_4a_Rezolvare.ipynb\" target=\"_parent\"><img src=\"https://colab.research.google.com/assets/colab-badge.svg\" alt=\"Open In Colab\"/></a>"
      ]
    },
    {
      "cell_type": "code",
      "source": [
        "!pip install deap"
      ],
      "metadata": {
        "colab": {
          "base_uri": "https://localhost:8080/"
        },
        "id": "4HIhmcEzhM7h",
        "outputId": "e36620aa-7776-4ef3-f3c4-682998141ffd"
      },
      "execution_count": 2,
      "outputs": [
        {
          "output_type": "stream",
          "name": "stdout",
          "text": [
            "Collecting deap\n",
            "  Downloading deap-1.4.3-cp311-cp311-manylinux_2_5_x86_64.manylinux1_x86_64.manylinux_2_17_x86_64.manylinux2014_x86_64.whl.metadata (13 kB)\n",
            "Requirement already satisfied: numpy in /usr/local/lib/python3.11/dist-packages (from deap) (2.0.2)\n",
            "Downloading deap-1.4.3-cp311-cp311-manylinux_2_5_x86_64.manylinux1_x86_64.manylinux_2_17_x86_64.manylinux2014_x86_64.whl (135 kB)\n",
            "\u001b[?25l   \u001b[90m━━━━━━━━━━━━━━━━━━━━━━━━━━━━━━━━━━━━━━━━\u001b[0m \u001b[32m0.0/135.6 kB\u001b[0m \u001b[31m?\u001b[0m eta \u001b[36m-:--:--\u001b[0m\r\u001b[2K   \u001b[90m━━━━━━━━━━━━━━━━━━━━━━━━━━━━━━━━━━━━━━━━\u001b[0m \u001b[32m135.6/135.6 kB\u001b[0m \u001b[31m4.9 MB/s\u001b[0m eta \u001b[36m0:00:00\u001b[0m\n",
            "\u001b[?25hInstalling collected packages: deap\n",
            "Successfully installed deap-1.4.3\n"
          ]
        }
      ]
    },
    {
      "cell_type": "code",
      "source": [
        "import numpy as np\n",
        "from deap import base, creator, tools, algorithms\n",
        "import random\n",
        "\n",
        "def eval_equation_system(individual):\n",
        "    x, y, z = individual\n",
        "    eq1 = 2*x + y - z - 8\n",
        "    eq2 = -3*x - y + 2*z + 11\n",
        "    eq3 = -2*x + y + 2*z + 3\n",
        "    total_error = abs(eq1) + abs(eq2) + abs(eq3)\n",
        "    return -total_error,\n",
        "\n",
        "creator.create(\"FitnessMax\", base.Fitness, weights=(1.0,))\n",
        "creator.create(\"Individual\", list, fitness=creator.FitnessMax)\n",
        "\n",
        "toolbox = base.Toolbox()\n",
        "toolbox.register(\"attr_float\", random.uniform, -10.0, 10.0)\n",
        "toolbox.register(\"individual\", tools.initRepeat, creator.Individual, toolbox.attr_float, n=3)\n",
        "toolbox.register(\"population\", tools.initRepeat, list, toolbox.individual)\n",
        "\n",
        "toolbox.register(\"mate\", tools.cxBlend, alpha=0.5)\n",
        "toolbox.register(\"mutate\", tools.mutGaussian, mu=0, sigma=1.0, indpb=0.5)\n",
        "toolbox.register(\"select\", tools.selTournament, tournsize=3)\n",
        "toolbox.register(\"evaluate\", eval_equation_system)\n",
        "\n",
        "pop = toolbox.population(n=100)\n",
        "hof = tools.HallOfFame(1)\n",
        "stats = tools.Statistics(lambda ind: ind.fitness.values)\n",
        "stats.register(\"min\", np.min)\n",
        "stats.register(\"avg\", np.mean)\n",
        "\n",
        "pop, logbook = algorithms.eaSimple(pop, toolbox, cxpb=0.6, mutpb=0.3, ngen=80,\n",
        "                                   stats=stats, halloffame=hof, verbose=True)\n",
        "\n",
        "best = hof[0]\n",
        "print(f\"Rezultat aproximat: x={best[0]:.4f}, y={best[1]:.4f}, z={best[2]:.4f}, fitness={best.fitness.values[0]:.4f}\")"
      ],
      "metadata": {
        "colab": {
          "base_uri": "https://localhost:8080/"
        },
        "id": "AYInyqXyjOVl",
        "outputId": "76334a0f-3ebe-427c-daa0-05f14ea663f0"
      },
      "execution_count": 7,
      "outputs": [
        {
          "output_type": "stream",
          "name": "stdout",
          "text": [
            "gen\tnevals\tmin    \tavg     \n",
            "0  \t100   \t-117.69\t-46.4797\n",
            "1  \t62    \t-137.206\t-28.9426\n",
            "2  \t69    \t-81.1422\t-21.7824\n",
            "3  \t68    \t-76.5273\t-15.076 \n",
            "4  \t67    \t-40.3799\t-12.4793\n",
            "5  \t83    \t-31.2836\t-8.38103\n",
            "6  \t71    \t-44.0321\t-7.22103\n",
            "7  \t67    \t-22.054 \t-4.70257\n",
            "8  \t72    \t-30.507 \t-5.71088\n",
            "9  \t74    \t-19.3454\t-5.09473\n",
            "10 \t70    \t-23.4362\t-4.56832\n",
            "11 \t76    \t-15.081 \t-4.03343\n",
            "12 \t73    \t-18.1503\t-3.32525\n",
            "13 \t77    \t-19.6475\t-2.94167\n",
            "14 \t73    \t-12.4399\t-2.61182\n",
            "15 \t70    \t-13.5919\t-2.09406\n",
            "16 \t74    \t-14.2245\t-2.18294\n",
            "17 \t76    \t-12.6081\t-2.06998\n",
            "18 \t72    \t-16.7008\t-2.10323\n",
            "19 \t66    \t-10.5071\t-1.85739\n",
            "20 \t69    \t-19.2773\t-1.81234\n",
            "21 \t72    \t-15.0141\t-1.90409\n",
            "22 \t76    \t-24.1525\t-1.70311\n",
            "23 \t81    \t-16.019 \t-1.47949\n",
            "24 \t70    \t-10.9513\t-1.59106\n",
            "25 \t75    \t-11.3079\t-1.10771\n",
            "26 \t71    \t-21.4199\t-1.52957\n",
            "27 \t73    \t-16.6079\t-1.19465\n",
            "28 \t74    \t-19.4336\t-1.26582\n",
            "29 \t74    \t-17.932 \t-1.72109\n",
            "30 \t74    \t-11.2043\t-1.43124\n",
            "31 \t78    \t-13.6213\t-0.946012\n",
            "32 \t70    \t-13.0129\t-1.63771 \n",
            "33 \t76    \t-17.2019\t-1.45714 \n",
            "34 \t70    \t-11.9701\t-1.00537 \n",
            "35 \t77    \t-13.3611\t-1.65147 \n",
            "36 \t81    \t-15.4214\t-1.05327 \n",
            "37 \t71    \t-14.3958\t-1.73371 \n",
            "38 \t75    \t-17.0873\t-1.60247 \n",
            "39 \t75    \t-19.6325\t-1.6494  \n",
            "40 \t76    \t-17.4402\t-1.17391 \n",
            "41 \t76    \t-12.1581\t-1.57118 \n",
            "42 \t74    \t-11.2976\t-1.49069 \n",
            "43 \t75    \t-19.5952\t-1.39122 \n",
            "44 \t71    \t-14.5064\t-0.900898\n",
            "45 \t69    \t-17.0269\t-1.34367 \n",
            "46 \t65    \t-15.6837\t-1.47555 \n",
            "47 \t70    \t-18.5055\t-1.41058 \n",
            "48 \t69    \t-23.0416\t-1.94957 \n",
            "49 \t69    \t-16.5786\t-1.55437 \n",
            "50 \t73    \t-16.6722\t-1.36808 \n",
            "51 \t72    \t-18.7482\t-1.66913 \n",
            "52 \t74    \t-18.6376\t-2.22721 \n",
            "53 \t75    \t-15.9372\t-1.3334  \n",
            "54 \t65    \t-7.61671\t-0.619202\n",
            "55 \t64    \t-27.8792\t-1.48403 \n",
            "56 \t71    \t-14.4409\t-1.67015 \n",
            "57 \t75    \t-19.8042\t-1.30328 \n",
            "58 \t77    \t-17.6403\t-1.08742 \n",
            "59 \t79    \t-15.1444\t-1.50665 \n",
            "60 \t69    \t-11.2567\t-1.74059 \n",
            "61 \t74    \t-14.6168\t-1.80334 \n",
            "62 \t65    \t-19.1129\t-1.10748 \n",
            "63 \t71    \t-11.7629\t-1.33891 \n",
            "64 \t75    \t-9.14256\t-1.09186 \n",
            "65 \t72    \t-13.8047\t-1.48937 \n",
            "66 \t86    \t-19.9119\t-1.2479  \n",
            "67 \t70    \t-13.3474\t-1.37654 \n",
            "68 \t79    \t-22.2264\t-1.11782 \n",
            "69 \t70    \t-21.521 \t-1.58692 \n",
            "70 \t79    \t-17.6199\t-1.79998 \n",
            "71 \t76    \t-20.152 \t-1.73977 \n",
            "72 \t69    \t-15.8922\t-1.2659  \n",
            "73 \t77    \t-14.907 \t-1.6053  \n",
            "74 \t69    \t-24.865 \t-2.15961 \n",
            "75 \t70    \t-11.0732\t-1.02082 \n",
            "76 \t71    \t-11.6319\t-1.69801 \n",
            "77 \t69    \t-14.4903\t-1.4326  \n",
            "78 \t83    \t-19.3285\t-1.56095 \n",
            "79 \t68    \t-17.5889\t-1.72463 \n",
            "80 \t81    \t-19.9921\t-1.96525 \n",
            "Rezultat aproximat: x=1.7282, y=3.1409, z=-1.3428, fitness=-0.0720\n"
          ]
        }
      ]
    }
  ]
}